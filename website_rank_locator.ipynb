{
 "cells": [
  {
   "cell_type": "code",
   "execution_count": 1,
   "id": "f4dbd71b",
   "metadata": {},
   "outputs": [
    {
     "name": "stdout",
     "output_type": "stream",
     "text": [
      "Please enter a website:\n",
      "www.arccontracting\n",
      "Please enter a keyword:\n",
      "arc contstruction\n"
     ]
    }
   ],
   "source": [
    "website = input(\"Please enter a website:\\n\")\n",
    "keyword = input(\"Please enter a keyword:\\n\")"
   ]
  },
  {
   "cell_type": "code",
   "execution_count": 2,
   "id": "993f6e24",
   "metadata": {},
   "outputs": [],
   "source": [
    "web_list =[]\n",
    "def Convert(string):\n",
    "    li = list(string.split())\n",
    "    return li\n",
    "  "
   ]
  },
  {
   "cell_type": "code",
   "execution_count": 3,
   "id": "9775a81f",
   "metadata": {},
   "outputs": [
    {
     "name": "stdout",
     "output_type": "stream",
     "text": [
      "6\n",
      "https://www.arccontracting.com/\n"
     ]
    }
   ],
   "source": [
    "\n",
    "try:\n",
    "    from googlesearch import search\n",
    "except ImportError:\n",
    "    print(\"No module named 'google' found\")\n",
    " \n",
    "# to search\n",
    "query = keyword\n",
    "count = 0\n",
    "x=0\n",
    "\n",
    "for j in search(query, tld=\"co.in\", num=10, stop=100, pause=2):\n",
    "    #if query == website: \n",
    "     #   x = count\n",
    "    #else:\n",
    "     #   count +=1\n",
    "      #  print(count)\n",
    "    str1=j\n",
    "    if (str1.__contains__(website)):\n",
    "        print(count +1)\n",
    "        print(j)\n",
    "        break \n",
    "    else:\n",
    "        count +=1\n",
    "    \n",
    "       \n",
    "        web_list.append(Convert(str1))\n",
    "        #print(j)"
   ]
  },
  {
   "cell_type": "code",
   "execution_count": null,
   "id": "aa00a909",
   "metadata": {},
   "outputs": [],
   "source": []
  },
  {
   "cell_type": "code",
   "execution_count": null,
   "id": "70f304dc",
   "metadata": {},
   "outputs": [],
   "source": []
  },
  {
   "cell_type": "code",
   "execution_count": null,
   "id": "ee7690aa",
   "metadata": {},
   "outputs": [],
   "source": []
  }
 ],
 "metadata": {
  "kernelspec": {
   "display_name": "mlenv",
   "language": "python",
   "name": "mlenv"
  },
  "language_info": {
   "codemirror_mode": {
    "name": "ipython",
    "version": 3
   },
   "file_extension": ".py",
   "mimetype": "text/x-python",
   "name": "python",
   "nbconvert_exporter": "python",
   "pygments_lexer": "ipython3",
   "version": "3.7.11"
  }
 },
 "nbformat": 4,
 "nbformat_minor": 5
}
